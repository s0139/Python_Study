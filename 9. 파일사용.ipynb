{
 "cells": [
  {
   "cell_type": "markdown",
   "id": "a56a11b8-1133-475b-8871-b94273de91b0",
   "metadata": {},
   "source": [
    "## 파일에서 전체 데이터 읽어 오기"
   ]
  },
  {
   "cell_type": "code",
   "execution_count": 1,
   "id": "2a66ed43-d216-4abf-ab78-b7e2a13a5695",
   "metadata": {},
   "outputs": [
    {
     "data": {
      "text/plain": [
       "'C:\\\\Users\\\\ITBANK NR 306_1\\\\보안과 해킹'"
      ]
     },
     "execution_count": 1,
     "metadata": {},
     "output_type": "execute_result"
    }
   ],
   "source": [
    "import os\n",
    "os.getcwd()   # 내 프로그램의 디렉토리 위치"
   ]
  },
  {
   "cell_type": "code",
   "execution_count": 15,
   "id": "78ac49c0-083e-46e3-a73b-1a872b956e60",
   "metadata": {},
   "outputs": [],
   "source": [
    "infile = open('./phone.txt', 'r', encoding='utf-8')"
   ]
  },
  {
   "cell_type": "code",
   "execution_count": 14,
   "id": "d847b946-656a-438d-8344-3c7d540fb4bf",
   "metadata": {},
   "outputs": [
    {
     "data": {
      "text/plain": [
       "'홍길동 010-1234-5678\\n김철수 010-1234-5679\\n이영희 010-5678-5680'"
      ]
     },
     "execution_count": 14,
     "metadata": {},
     "output_type": "execute_result"
    }
   ],
   "source": [
    "infile.read()"
   ]
  },
  {
   "cell_type": "code",
   "execution_count": 16,
   "id": "e496bd56-8414-4cb1-bf42-62b08103c1e2",
   "metadata": {},
   "outputs": [],
   "source": [
    "lines = infile.read()"
   ]
  },
  {
   "cell_type": "code",
   "execution_count": 17,
   "id": "88a91219-9243-41ca-95e7-b95fa7d1f978",
   "metadata": {},
   "outputs": [
    {
     "name": "stdout",
     "output_type": "stream",
     "text": [
      "홍길동 010-1234-5678\n",
      "김철수 010-1234-5679\n",
      "이영희 010-5678-5680\n"
     ]
    }
   ],
   "source": [
    "print(lines)"
   ]
  },
  {
   "cell_type": "code",
   "execution_count": 18,
   "id": "c2a6b004-f273-43b4-a259-39082fda0025",
   "metadata": {},
   "outputs": [],
   "source": [
    "infile.close()"
   ]
  },
  {
   "cell_type": "markdown",
   "id": "dd2bc34e-03f8-4f0c-9e05-bc933528899c",
   "metadata": {},
   "source": [
    "## 전체 파일에서 한 번에 파일의 모든 라인을 읽는 프로그램"
   ]
  },
  {
   "cell_type": "code",
   "execution_count": 19,
   "id": "c762fc8a-9f0f-4c76-800c-2cf2ee6fa83d",
   "metadata": {},
   "outputs": [
    {
     "name": "stdout",
     "output_type": "stream",
     "text": [
      "['홍길동 010-1234-5678\\n', '김철수 010-1234-5679\\n', '이영희 010-5678-5680']\n"
     ]
    }
   ],
   "source": [
    "infile = open('./phone.txt', 'r', encoding='utf-8')\n",
    "lines = infile.readlines()\n",
    "print(lines)\n",
    "infile.close()"
   ]
  },
  {
   "cell_type": "markdown",
   "id": "3e3ccb47-417a-4917-8ca5-d1420028f563",
   "metadata": {},
   "source": [
    "## 파일에서 한 줄씩 읽는 프로그램"
   ]
  },
  {
   "cell_type": "code",
   "execution_count": 20,
   "id": "f15d7e5a-3aa4-4c55-9f6b-9113e10d9dd6",
   "metadata": {},
   "outputs": [],
   "source": [
    "infile = open('./phone.txt', 'r', encoding='utf-8')"
   ]
  },
  {
   "cell_type": "code",
   "execution_count": 21,
   "id": "99c90130-2163-4407-b43c-4eb6d83d3c37",
   "metadata": {},
   "outputs": [
    {
     "name": "stdout",
     "output_type": "stream",
     "text": [
      "홍길동 010-1234-5678\n",
      "\n"
     ]
    }
   ],
   "source": [
    "lines = infile.readline()\n",
    "print(lines)"
   ]
  },
  {
   "cell_type": "code",
   "execution_count": 22,
   "id": "5e6200a5-5c4e-4fc1-aa35-3b96a1011c2e",
   "metadata": {},
   "outputs": [
    {
     "name": "stdout",
     "output_type": "stream",
     "text": [
      "김철수 010-1234-5679\n",
      "\n"
     ]
    }
   ],
   "source": [
    "lines = infile.readline()\n",
    "print(lines)"
   ]
  },
  {
   "cell_type": "code",
   "execution_count": 23,
   "id": "681e0c60-c50d-4c0e-8c20-7e40284b6272",
   "metadata": {},
   "outputs": [
    {
     "name": "stdout",
     "output_type": "stream",
     "text": [
      "이영희 010-5678-5680\n"
     ]
    }
   ],
   "source": [
    "lines = infile.readline()\n",
    "print(lines)"
   ]
  },
  {
   "cell_type": "code",
   "execution_count": 24,
   "id": "26ff31fb-d8ff-4cdc-9114-3caa65fd905d",
   "metadata": {},
   "outputs": [
    {
     "name": "stdout",
     "output_type": "stream",
     "text": [
      "\n"
     ]
    }
   ],
   "source": [
    "lines = infile.readline()\n",
    "print(lines)"
   ]
  },
  {
   "cell_type": "code",
   "execution_count": 25,
   "id": "416e02fa-bf49-458c-a25e-181d60a6936f",
   "metadata": {},
   "outputs": [],
   "source": [
    "infile.close()"
   ]
  },
  {
   "cell_type": "markdown",
   "id": "16ac2fa2-5be4-4db1-90b6-44a466cf0f81",
   "metadata": {},
   "source": [
    "## 파일에서 한 줄씩 읽는 프로그램\n",
    "- 데이터의 크기를 모를 경우"
   ]
  },
  {
   "cell_type": "code",
   "execution_count": 34,
   "id": "78209ed3-ff84-4dba-b242-5573ebb4c245",
   "metadata": {},
   "outputs": [],
   "source": [
    "infile = open('./phone.txt', 'r', encoding='utf-8')"
   ]
  },
  {
   "cell_type": "code",
   "execution_count": 35,
   "id": "d60d6eaa-2f99-4a0a-bc7c-1bf0075eae38",
   "metadata": {},
   "outputs": [
    {
     "name": "stdout",
     "output_type": "stream",
     "text": [
      "홍길동 010-1234-5678\n",
      "김철수 010-1234-5679\n",
      "이영희 010-5678-5680\n"
     ]
    }
   ],
   "source": [
    "lines = infile.readline().rstrip()   # rstrip 'rows'에 맨끝에 있는 '\\n' 거거\n",
    "\n",
    "while lines != \"\":\n",
    "    print(lines)\n",
    "    lines = infile.readline().rstrip()"
   ]
  },
  {
   "cell_type": "code",
   "execution_count": 36,
   "id": "5f843a3f-37c8-4ac0-8d72-fb6768357bba",
   "metadata": {},
   "outputs": [],
   "source": [
    "infile.close()"
   ]
  },
  {
   "cell_type": "markdown",
   "id": "2e8f4d3b-7a36-4030-b401-2dafe044555b",
   "metadata": {},
   "source": [
    "- 데이터의 크기를 모를 경우 ( 주로 사용 )"
   ]
  },
  {
   "cell_type": "code",
   "execution_count": 37,
   "id": "2908c507-a0b6-469e-a19f-2b8bb56d1b80",
   "metadata": {},
   "outputs": [],
   "source": [
    "infile = open('./phone.txt', 'r', encoding='utf-8')"
   ]
  },
  {
   "cell_type": "code",
   "execution_count": 38,
   "id": "6c77a581-3387-41c9-a491-4a2003518181",
   "metadata": {},
   "outputs": [
    {
     "name": "stdout",
     "output_type": "stream",
     "text": [
      "홍길동 010-1234-5678\n",
      "김철수 010-1234-5679\n",
      "이영희 010-5678-5680\n"
     ]
    }
   ],
   "source": [
    "for line in infile:\n",
    "    line = line.rstrip()   # '\\n' 제거\n",
    "    print(line)"
   ]
  },
  {
   "cell_type": "code",
   "execution_count": 39,
   "id": "ba24ab46-58b3-407a-9060-763463924528",
   "metadata": {},
   "outputs": [],
   "source": [
    "infile.close()"
   ]
  },
  {
   "cell_type": "markdown",
   "id": "53cd85d2-3eee-4f0d-bdb6-9231995b94ed",
   "metadata": {},
   "source": [
    "## 파일에 데이터 기기"
   ]
  },
  {
   "cell_type": "code",
   "execution_count": 52,
   "id": "362c2cd2-c622-4c25-8d78-f2b664b2d93c",
   "metadata": {},
   "outputs": [],
   "source": [
    "outfile = open('./new_phones.txt', 'w', encoding='utf-8')"
   ]
  },
  {
   "cell_type": "code",
   "execution_count": 53,
   "id": "323fdc6d-521f-4099-94e6-2f4e74a69a0b",
   "metadata": {},
   "outputs": [
    {
     "data": {
      "text/plain": [
       "18"
      ]
     },
     "execution_count": 53,
     "metadata": {},
     "output_type": "execute_result"
    }
   ],
   "source": [
    "outfile.write('김철수 010-5678-1234\\n')\n",
    "outfile.write('홍길동 010-5679-2345\\n')\n",
    "outfile.write('이순신 010-6678-4567\\n')"
   ]
  },
  {
   "cell_type": "code",
   "execution_count": 54,
   "id": "3cf77629-49d2-43ca-93f4-5e20ad08336c",
   "metadata": {},
   "outputs": [],
   "source": [
    "outfile.close()"
   ]
  },
  {
   "cell_type": "markdown",
   "id": "c44475e7-1d91-4d73-8a13-ede22d103269",
   "metadata": {},
   "source": [
    "## 기존 파일에 내용을 추가하기 "
   ]
  },
  {
   "cell_type": "code",
   "execution_count": 55,
   "id": "8eab2b85-6a2c-4031-aafc-358bdce8da50",
   "metadata": {},
   "outputs": [],
   "source": [
    "outfile = open('./new_phones.txt', 'a', encoding='utf-8')"
   ]
  },
  {
   "cell_type": "code",
   "execution_count": 56,
   "id": "16dc6f37-6eba-4a8b-bac6-2ba979629658",
   "metadata": {},
   "outputs": [
    {
     "data": {
      "text/plain": [
       "18"
      ]
     },
     "execution_count": 56,
     "metadata": {},
     "output_type": "execute_result"
    }
   ],
   "source": [
    "outfile.write('강감찬 010-5678-5681\\n')\n",
    "outfile.write('김유신 010-5679-5682\\n')\n",
    "outfile.write('정약용 010-6678-5683\\n')"
   ]
  },
  {
   "cell_type": "code",
   "execution_count": 57,
   "id": "8a60890d-004f-49d2-b5b9-b6e271ecfab1",
   "metadata": {},
   "outputs": [],
   "source": [
    "outfile.close()"
   ]
  },
  {
   "cell_type": "markdown",
   "id": "3325619d-67b7-4440-bb72-9e64f8f665cb",
   "metadata": {},
   "source": [
    "## 파일에서 단어 단위 데이터 읽어오기"
   ]
  },
  {
   "cell_type": "code",
   "execution_count": 61,
   "id": "4ebddaf8-3540-4f7d-bab1-6e924fdaae4a",
   "metadata": {},
   "outputs": [],
   "source": [
    "a = \"All's well that ends well.\"\n",
    "lists = a.split()"
   ]
  },
  {
   "cell_type": "code",
   "execution_count": 63,
   "id": "f50a477c-68b2-4142-bafb-e005574d04c7",
   "metadata": {},
   "outputs": [
    {
     "name": "stdout",
     "output_type": "stream",
     "text": [
      "[\"All's\", 'well', 'that', 'ends', 'well.']\n"
     ]
    }
   ],
   "source": [
    "print(lists)"
   ]
  },
  {
   "cell_type": "code",
   "execution_count": 96,
   "id": "fd242260-2343-48e9-9805-6f205fa54650",
   "metadata": {},
   "outputs": [
    {
     "data": {
      "text/plain": [
       "5"
      ]
     },
     "execution_count": 96,
     "metadata": {},
     "output_type": "execute_result"
    }
   ],
   "source": [
    "len(lists)"
   ]
  },
  {
   "cell_type": "code",
   "execution_count": 60,
   "id": "d1f2900f-d28d-4004-8e2a-8315f7be5071",
   "metadata": {},
   "outputs": [
    {
     "data": {
      "text/plain": [
       "\"All's\""
      ]
     },
     "execution_count": 60,
     "metadata": {},
     "output_type": "execute_result"
    }
   ],
   "source": [
    "lists[0]"
   ]
  },
  {
   "cell_type": "code",
   "execution_count": 62,
   "id": "3cbedd8d-165b-4fa7-be26-1bec611891be",
   "metadata": {},
   "outputs": [
    {
     "data": {
      "text/plain": [
       "'well'"
      ]
     },
     "execution_count": 62,
     "metadata": {},
     "output_type": "execute_result"
    }
   ],
   "source": [
    "lists[1]"
   ]
  },
  {
   "cell_type": "code",
   "execution_count": 73,
   "id": "bd97a4f5-c294-41ca-80df-5e1af6c82ac1",
   "metadata": {},
   "outputs": [],
   "source": [
    "infile = open('./proverbs.txt', 'r', encoding='utf-8')"
   ]
  },
  {
   "cell_type": "code",
   "execution_count": 74,
   "id": "5c37dad3-c0d0-4ff2-8f3a-2102a85de4b6",
   "metadata": {},
   "outputs": [
    {
     "name": "stdout",
     "output_type": "stream",
     "text": [
      "All's well that ends well.\n",
      "********************\n",
      "All's\n",
      "well\n",
      "that\n",
      "ends\n",
      "well.\n",
      "Bad news travels fast.\n",
      "********************\n",
      "Bad\n",
      "news\n",
      "travels\n",
      "fast.\n",
      "Well begun is half done.\n",
      "********************\n",
      "Well\n",
      "begun\n",
      "is\n",
      "half\n",
      "done.\n",
      "Birds of a feather flock together.\n",
      "********************\n",
      "Birds\n",
      "of\n",
      "a\n",
      "feather\n",
      "flock\n",
      "together.\n"
     ]
    }
   ],
   "source": [
    "for line in infile:\n",
    "    line = line.rstrip()   # '\\n' 거거\n",
    "    print(line)\n",
    "    print('*' * 20)\n",
    "    word_list = line.split()\n",
    "    for word in word_list:\n",
    "        print(word)"
   ]
  },
  {
   "cell_type": "code",
   "execution_count": 72,
   "id": "645da767-9d89-4267-8e72-1be8fa2a6d3a",
   "metadata": {},
   "outputs": [],
   "source": [
    "infile.close()"
   ]
  },
  {
   "cell_type": "markdown",
   "id": "e8c9e951-afc0-4a2f-8b85-b95469acdc84",
   "metadata": {},
   "source": [
    "## CSV 파일 ( Comma Seperated Value )"
   ]
  },
  {
   "cell_type": "code",
   "execution_count": 77,
   "id": "92a3c4e4-31c0-4ce7-bdbe-77c559318965",
   "metadata": {},
   "outputs": [],
   "source": [
    "import csv"
   ]
  },
  {
   "cell_type": "code",
   "execution_count": 78,
   "id": "ef72d8d9-18a4-405d-a520-0b8b154394c8",
   "metadata": {},
   "outputs": [],
   "source": [
    "f = open('./input.csv', 'r', encoding='utf-8')"
   ]
  },
  {
   "cell_type": "code",
   "execution_count": 79,
   "id": "b3a58b06-1b1f-42d1-9b2f-aa1fbb863f4c",
   "metadata": {},
   "outputs": [
    {
     "name": "stdout",
     "output_type": "stream",
     "text": [
      "<_csv.reader object at 0x000001F535707940>\n"
     ]
    }
   ],
   "source": [
    "data = csv.reader(f)\n",
    "\n",
    "print(data)"
   ]
  },
  {
   "cell_type": "code",
   "execution_count": 80,
   "id": "e68ad001-067c-4cea-b499-6acceb14280b",
   "metadata": {},
   "outputs": [
    {
     "name": "stdout",
     "output_type": "stream",
     "text": [
      "['팀버너스리', '2016', '영국']\n",
      "['리처드 해밍', '1968', '미국']\n",
      "['에츠허르 데이크스트라', '1972', '네덜란드']\n",
      "['더글러스 엥겔바트', '1997', '미국']\n"
     ]
    }
   ],
   "source": [
    "for line in data:\n",
    "    print(line)"
   ]
  },
  {
   "cell_type": "code",
   "execution_count": 81,
   "id": "01e451fa-3a19-4fe9-a48a-d2ff27f18b8e",
   "metadata": {},
   "outputs": [],
   "source": [
    "f.close()"
   ]
  },
  {
   "cell_type": "code",
   "execution_count": 90,
   "id": "75884931-a31c-4b7b-81cf-1e8b5f5b8e17",
   "metadata": {},
   "outputs": [],
   "source": [
    "import pandas as pd"
   ]
  },
  {
   "cell_type": "code",
   "execution_count": 94,
   "id": "67a49998-78fe-4ea0-8b2b-f44590e6de08",
   "metadata": {},
   "outputs": [],
   "source": [
    "df = pd.read_csv('./input2.csv', encoding='utf-8')"
   ]
  },
  {
   "cell_type": "code",
   "execution_count": 95,
   "id": "febb7373-6aee-472b-8394-841e557f4cf9",
   "metadata": {},
   "outputs": [
    {
     "data": {
      "text/html": [
       "<div>\n",
       "<style scoped>\n",
       "    .dataframe tbody tr th:only-of-type {\n",
       "        vertical-align: middle;\n",
       "    }\n",
       "\n",
       "    .dataframe tbody tr th {\n",
       "        vertical-align: top;\n",
       "    }\n",
       "\n",
       "    .dataframe thead th {\n",
       "        text-align: right;\n",
       "    }\n",
       "</style>\n",
       "<table border=\"1\" class=\"dataframe\">\n",
       "  <thead>\n",
       "    <tr style=\"text-align: right;\">\n",
       "      <th></th>\n",
       "      <th>성명</th>\n",
       "      <th>출생년도</th>\n",
       "      <th>소속국가</th>\n",
       "    </tr>\n",
       "  </thead>\n",
       "  <tbody>\n",
       "    <tr>\n",
       "      <th>0</th>\n",
       "      <td>팀버너스리</td>\n",
       "      <td>2016</td>\n",
       "      <td>영국</td>\n",
       "    </tr>\n",
       "    <tr>\n",
       "      <th>1</th>\n",
       "      <td>리처드 해밍</td>\n",
       "      <td>1968</td>\n",
       "      <td>미국</td>\n",
       "    </tr>\n",
       "    <tr>\n",
       "      <th>2</th>\n",
       "      <td>에츠허르 데이크스트라</td>\n",
       "      <td>1972</td>\n",
       "      <td>네덜란드</td>\n",
       "    </tr>\n",
       "    <tr>\n",
       "      <th>3</th>\n",
       "      <td>더글러스 엥겔바트</td>\n",
       "      <td>1997</td>\n",
       "      <td>미국</td>\n",
       "    </tr>\n",
       "  </tbody>\n",
       "</table>\n",
       "</div>"
      ],
      "text/plain": [
       "            성명  출생년도  소속국가\n",
       "0        팀버너스리  2016    영국\n",
       "1       리처드 해밍  1968    미국\n",
       "2  에츠허르 데이크스트라  1972  네덜란드\n",
       "3    더글러스 엥겔바트  1997    미국"
      ]
     },
     "execution_count": 95,
     "metadata": {},
     "output_type": "execute_result"
    }
   ],
   "source": [
    "df"
   ]
  },
  {
   "cell_type": "markdown",
   "id": "95d71c41-ff13-4216-9c08-583084ec4331",
   "metadata": {},
   "source": [
    "## 파일 복사 하기"
   ]
  },
  {
   "cell_type": "code",
   "execution_count": 98,
   "id": "5632b334-bfe8-4898-8320-04c6b62beed6",
   "metadata": {},
   "outputs": [],
   "source": [
    "# phone.txt => temp.txt"
   ]
  },
  {
   "cell_type": "code",
   "execution_count": 99,
   "id": "1a53be7f-c272-45a5-94e8-04420d7835ec",
   "metadata": {},
   "outputs": [],
   "source": [
    "infile = open('phone.txt', 'r', encoding='utf-8')\n",
    "outfile = open('temp.txt', 'w', encoding='utf-8')"
   ]
  },
  {
   "cell_type": "code",
   "execution_count": 100,
   "id": "02c34266-5e46-4581-b12d-ac31a2290c6d",
   "metadata": {},
   "outputs": [],
   "source": [
    "# 전체 파일을 읽습니다.\n",
    "data = infile.read()"
   ]
  },
  {
   "cell_type": "code",
   "execution_count": 101,
   "id": "13817663-73fe-4e88-b27a-3f9cbb6ad130",
   "metadata": {},
   "outputs": [
    {
     "data": {
      "text/plain": [
       "53"
      ]
     },
     "execution_count": 101,
     "metadata": {},
     "output_type": "execute_result"
    }
   ],
   "source": [
    "# 전체 파일을 씁니다.\n",
    "outfile.write(data)"
   ]
  },
  {
   "cell_type": "code",
   "execution_count": 102,
   "id": "8ebd3603-c3ae-4453-8690-1d0fb8d73815",
   "metadata": {},
   "outputs": [],
   "source": [
    "infile.close()\n",
    "outfile.close()"
   ]
  },
  {
   "cell_type": "markdown",
   "id": "7151ef3d-c717-42e4-ab2c-499fc6169b2b",
   "metadata": {},
   "source": [
    "## 연설문 데이터 분석"
   ]
  },
  {
   "cell_type": "code",
   "execution_count": 111,
   "id": "8fe4db9e-2cfa-436b-922f-462866018ff7",
   "metadata": {},
   "outputs": [],
   "source": [
    "# 입력 파일 열기\n",
    "infile = open('speech.txt', 'r', encoding='utf-8')\n",
    "outfile = open('output.txt', 'w', encoding='utf-8')"
   ]
  },
  {
   "cell_type": "code",
   "execution_count": 112,
   "id": "0384a50e-236e-4e7d-b96c-82f38308eeb1",
   "metadata": {},
   "outputs": [
    {
     "name": "stdout",
     "output_type": "stream",
     "text": [
      " 총 단어수 =  268\n"
     ]
    }
   ],
   "source": [
    "word_dic = {}       # key(word) : value(count)\n",
    "total_count = 0\n",
    "\n",
    "for line in infile:\n",
    "    line = line.rstrip()\n",
    "    word_list = line.split()\n",
    "\n",
    "    for word in word_list:\n",
    "        word = word.lower()      # 대문자를 소문자로 변경\n",
    "        word = word.strip(',')   # 콤마 삭제\n",
    "        word = word.strip('.')   # 마침표 삭제\n",
    "\n",
    "        if word in word_dic:\n",
    "            word_dic[word] = word_dic[word] + 1\n",
    "            total_count = total_count + 1\n",
    "        else:\n",
    "            word_dic[word] = 1\n",
    "            total_count = total_count + 1\n",
    "\n",
    "# 단어별 빈도수를 결과 파일에 저장하고 총 단어수를 화면 출력\n",
    "\n",
    "result = \"\"\n",
    "for key in sorted(word_dic.keys()):\n",
    "    result = key + ',' + str(word_dic[key]) + '\\n'\n",
    "    outfile.write(result)\n",
    "\n",
    "print(' 총 단어수 = ', total_count)"
   ]
  },
  {
   "cell_type": "code",
   "execution_count": 113,
   "id": "e85f2260-71f1-4651-b013-2fad3c7b42d5",
   "metadata": {},
   "outputs": [],
   "source": [
    "# 입력파일과 출력 파일 닫기\n",
    "\n",
    "infile.close()\n",
    "outfile.close()"
   ]
  },
  {
   "cell_type": "code",
   "execution_count": null,
   "id": "55a09e42-2901-4601-a7a2-d261b8b51e6d",
   "metadata": {},
   "outputs": [],
   "source": []
  }
 ],
 "metadata": {
  "kernelspec": {
   "display_name": "Python 3 (ipykernel)",
   "language": "python",
   "name": "python3"
  },
  "language_info": {
   "codemirror_mode": {
    "name": "ipython",
    "version": 3
   },
   "file_extension": ".py",
   "mimetype": "text/x-python",
   "name": "python",
   "nbconvert_exporter": "python",
   "pygments_lexer": "ipython3",
   "version": "3.12.8"
  }
 },
 "nbformat": 4,
 "nbformat_minor": 5
}
