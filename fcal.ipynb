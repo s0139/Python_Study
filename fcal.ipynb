{
 "cells": [
  {
   "cell_type": "code",
   "execution_count": null,
   "id": "16e9a153-b2db-4a8e-9211-e6ab19edd2a2",
   "metadata": {},
   "outputs": [],
   "source": [
    "class Fcalc:\n",
    "    def fadd(self, a ,b):\n",
    "        self.a = a\n",
    "        self.b = b\n",
    "        return self.a + self.b\n",
    "        \n",
    "    def fsub(self, a ,b):\n",
    "        self.a = a\n",
    "        self.b = b\n",
    "        return self.a - self.b\n",
    "\n",
    "    def fmul(self, a ,b):\n",
    "        self.a = a\n",
    "        self.b = b\n",
    "        return self.a * self.b\n",
    "\n",
    "    def fdiv(self, a ,b):\n",
    "        self.a = a\n",
    "        self.b = b\n",
    "        return self.a / self.b\n",
    "\n",
    "class Fcala: \n",
    "    def fsqrt(self, a, b):\n",
    "        self.a = a\n",
    "        self.b = b\n",
    "        return self.a ** self.b\n",
    "\n",
    "if __name__ == \"__main__\":\n",
    "    cal1 = Fcalc()\n",
    "    print(cal1.fadd(10, 20))\n",
    "    print(cal1.fsub(10, 20))\n",
    "    print(cal1.fmul(10, 20))\n",
    "    print(cal1.fdiv(10, 20))"
   ]
  }
 ],
 "metadata": {
  "kernelspec": {
   "display_name": "Python 3 (ipykernel)",
   "language": "python",
   "name": "python3"
  },
  "language_info": {
   "codemirror_mode": {
    "name": "ipython",
    "version": 3
   },
   "file_extension": ".py",
   "mimetype": "text/x-python",
   "name": "python",
   "nbconvert_exporter": "python",
   "pygments_lexer": "ipython3",
   "version": "3.12.7"
  }
 },
 "nbformat": 4,
 "nbformat_minor": 5
}
