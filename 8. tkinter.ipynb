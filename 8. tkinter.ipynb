{
 "cells": [
  {
   "cell_type": "code",
   "execution_count": 4,
   "id": "274c4266-9ec1-4193-8b10-76add95caf79",
   "metadata": {},
   "outputs": [],
   "source": [
    "import tkinter\n",
    "otk = tkinter.Tk()\n",
    "obtn = tkinter.Button(otk, text=\"확인\")\n",
    "obtn.pack()\n",
    "otk.mainloop()"
   ]
  },
  {
   "cell_type": "code",
   "execution_count": null,
   "id": "97f0bb54-051a-424c-a5da-d9f3563341da",
   "metadata": {},
   "outputs": [],
   "source": [
    "pandan     : 데이터 전처리\n",
    "numpy      : 수학적인 계산\n",
    "matplotlib : 시각화\n",
    "seaborn    : 시각화\n",
    "인공지능 (tensorflow, pytoch)\n",
    "   머신러닝 : scikit-learn(분류, 예측) : tree, random-forest, \n",
    "   딥러닝   : ann, dnn, cnn, gru, gpt, rnn, lstm, yolo \n",
    "   신경망   : 강화학습 , PCA"
   ]
  },
  {
   "cell_type": "code",
   "execution_count": 7,
   "id": "b05ad6b2-f8f3-4318-95a5-8d2e09a3e6ae",
   "metadata": {},
   "outputs": [],
   "source": [
    "import tkinter\n",
    "otk = tkinter.Tk()\n",
    "otk.geometry('100x300')   # width x height\n",
    "obtn = tkinter.Button(otk, text='확인')\n",
    "obtn.pack()\n",
    "otk.mainloop()"
   ]
  },
  {
   "cell_type": "code",
   "execution_count": 11,
   "id": "909d4e20-07fc-4392-bf62-f9be522cbc43",
   "metadata": {},
   "outputs": [],
   "source": [
    "import tkinter\n",
    "otk = tkinter.Tk()\n",
    "otk.geometry('100x300+200+400')   # width x height + x + y\n",
    "obtn = tkinter.Button(otk, text='확인')\n",
    "obtn.pack()\n",
    "otk.mainloop()"
   ]
  },
  {
   "cell_type": "code",
   "execution_count": 10,
   "id": "b1deebff-339f-49e5-bcc3-508e0473b04f",
   "metadata": {},
   "outputs": [],
   "source": [
    "del otk"
   ]
  },
  {
   "cell_type": "code",
   "execution_count": 12,
   "id": "6573b8b5-d7c3-4ec2-941f-35bb39f90272",
   "metadata": {},
   "outputs": [],
   "source": [
    "def hello():\n",
    "    print('Hello there')"
   ]
  },
  {
   "cell_type": "code",
   "execution_count": 13,
   "id": "4f06686f-f698-44f5-abf2-e3f9aa440da7",
   "metadata": {},
   "outputs": [
    {
     "name": "stdout",
     "output_type": "stream",
     "text": [
      "Hello there\n",
      "Hello there\n",
      "Hello there\n",
      "Hello there\n",
      "Hello there\n",
      "Hello there\n",
      "Hello there\n",
      "Hello there\n",
      "Hello there\n",
      "Hello there\n",
      "Hello there\n",
      "Hello there\n"
     ]
    }
   ],
   "source": [
    "import tkinter\n",
    "otk = tkinter.Tk()\n",
    "otk.geometry('100x300+200+400')   # width x height + x + y\n",
    "obtn = tkinter.Button(otk, text='확인', command=hello)\n",
    "obtn.pack()\n",
    "otk.mainloop()"
   ]
  },
  {
   "cell_type": "code",
   "execution_count": 14,
   "id": "0f385a4d-5903-48bd-bc27-df9f8fe0849d",
   "metadata": {},
   "outputs": [],
   "source": [
    "import fcal"
   ]
  },
  {
   "cell_type": "code",
   "execution_count": 17,
   "id": "fb4293fc-73b9-492e-80ba-2e35243cf301",
   "metadata": {},
   "outputs": [
    {
     "data": {
      "text/plain": [
       "30"
      ]
     },
     "execution_count": 17,
     "metadata": {},
     "output_type": "execute_result"
    }
   ],
   "source": [
    "fcalc = fcal.Fcalc()\n",
    "fcalc.fadd(10, 20)"
   ]
  },
  {
   "cell_type": "code",
   "execution_count": 24,
   "id": "673c7db7-1815-4f9e-8b67-f115a714bc71",
   "metadata": {},
   "outputs": [],
   "source": [
    "from fcal import *"
   ]
  },
  {
   "cell_type": "code",
   "execution_count": 25,
   "id": "350ed1d9-6c7a-49bd-bc52-899d9f9605d9",
   "metadata": {},
   "outputs": [
    {
     "data": {
      "text/plain": [
       "30"
      ]
     },
     "execution_count": 25,
     "metadata": {},
     "output_type": "execute_result"
    }
   ],
   "source": [
    "fcalc = Fcalc()\n",
    "fcalc.fadd(10, 20)"
   ]
  },
  {
   "cell_type": "code",
   "execution_count": 26,
   "id": "6194ca3e-63f5-4c9a-9263-9eae1a4b0ee4",
   "metadata": {},
   "outputs": [],
   "source": [
    "fcala = Fcala()"
   ]
  },
  {
   "cell_type": "code",
   "execution_count": 27,
   "id": "7c693c11-aacc-4893-adb0-7f9eb3f1cde4",
   "metadata": {},
   "outputs": [],
   "source": [
    "from tkinter import *   # '*'는 tkintre package 보유하있느느 모든 객체(class) 불러는 것\n",
    "oroot = Tk()\n",
    "obtn1 = Button(oroot, text='확인1')\n",
    "obtn2 = Button(oroot, text='확인2')\n",
    "obtn3 = Button(oroot, text='확인3')\n",
    "obtn1.pack()\n",
    "obtn2.pack()\n",
    "obtn3.pack()\n",
    "oroot.mainloop()"
   ]
  },
  {
   "cell_type": "code",
   "execution_count": 28,
   "id": "02c3929c-0cc7-4a65-98fe-487b65ef8c0a",
   "metadata": {},
   "outputs": [],
   "source": [
    "from tkinter import *   # '*'는 tkintre package 보유하있느느 모든 객체(class) 불러는 것\n",
    "oroot = Tk()\n",
    "obtn1 = Button(oroot, text='확인1',bg='red')\n",
    "obtn2 = Button(oroot, text='확인2',bg='green')\n",
    "obtn3 = Button(oroot, text='확인3',bg='blue')\n",
    "obtn1.pack()\n",
    "obtn2.pack()\n",
    "obtn3.pack()\n",
    "oroot.mainloop()"
   ]
  },
  {
   "cell_type": "code",
   "execution_count": 48,
   "id": "bb3dd019-cc6d-4527-8ef0-2a7e009c6193",
   "metadata": {},
   "outputs": [],
   "source": [
    "from tkinter import *   # '*'는 tkintre package 보유하있느느 모든 객체(class) 불러는 것\n",
    "oroot = Tk()\n",
    "obtn1 = Button(oroot, text='확인1', bg='red', activebackground=\"#FFFFFF\", width=20, height=10, )\n",
    "obtn2 = Button(oroot, text='확인2', bg='green', width=20, height=20)\n",
    "obtn3 = Button(oroot, text='확인3', bg='blue', width=20, height=10)\n",
    "obtn1.pack()\n",
    "obtn2.pack()\n",
    "obtn3.pack()\n",
    "oroot.mainloop()"
   ]
  },
  {
   "cell_type": "code",
   "execution_count": 50,
   "id": "31781e3d-27ce-4ce8-a201-b08d97438ae2",
   "metadata": {},
   "outputs": [],
   "source": [
    "import tkinter\n",
    "oroot = tkinter.Tk()\n",
    "\n",
    "oentry=tkinter.Entry(oroot)\n",
    "olabel=tkinter.Label(oroot, text='이름을 입력하시오')\n",
    "oentry.pack()\n",
    "olabel.pack()\n",
    "oroot.mainloop()"
   ]
  },
  {
   "cell_type": "code",
   "execution_count": 51,
   "id": "238bb59a-6246-4989-8b38-520ddbe6575c",
   "metadata": {},
   "outputs": [],
   "source": [
    "import tkinter\n",
    "oroot = tkinter.Tk()\n",
    "\n",
    "ostring=tkinter.StringVar()\n",
    "oentry=tkinter.Entry(oroot, textvariable=ostring)\n",
    "oentry.pack()\n",
    "\n",
    "olabel=tkinter.Label(oroot, textvariable=ostring)\n",
    "olabel.pack()\n",
    "\n",
    "oroot.mainloop()"
   ]
  },
  {
   "cell_type": "code",
   "execution_count": 56,
   "id": "1cd2d9e6-4dc3-4f34-9f0e-7128f4c77ac4",
   "metadata": {},
   "outputs": [],
   "source": [
    "import tkinter\n",
    "oroot = tkinter.Tk()\n",
    "oroot.geometry('200x100')\n",
    "\n",
    "obtn1 = Button(oroot, text='확인1',bg='red')\n",
    "obtn2 = Button(oroot, text='확인2',bg='green')\n",
    "obtn3 = Button(oroot, text='확인3',bg='blue')\n",
    "\n",
    "obtn1.grid(row=1, column=0)\n",
    "obtn2.grid(row=1, column=1)\n",
    "obtn3.grid(row=2, column=1)\n",
    "\n",
    "oroot.mainloop()"
   ]
  },
  {
   "cell_type": "code",
   "execution_count": 60,
   "id": "2a5caad5-cd7e-4a38-8738-5dce8faffa8a",
   "metadata": {},
   "outputs": [],
   "source": [
    "import tkinter\n",
    "oroot = tkinter.Tk()\n",
    "oroot.geometry('200x100+600+300')\n",
    "\n",
    "obtn1 = Button(oroot, text='확인1')\n",
    "obtn2 = Button(oroot, text='확인2')\n",
    "obtn3 = Button(oroot, text='확인3')\n",
    "obtn4 = Button(oroot, text='확인4')\n",
    "\n",
    "obtn1.pack(side='left')\n",
    "obtn2.pack(side='right')\n",
    "obtn3.pack(side='top')\n",
    "obtn4.pack(side='bottom')\n",
    "\n",
    "oroot.mainloop()"
   ]
  },
  {
   "cell_type": "code",
   "execution_count": 61,
   "id": "90352fdc-3e6a-440d-a6f4-7d7d281ee7a1",
   "metadata": {},
   "outputs": [],
   "source": [
    "import tkinter\n",
    "oroot = tkinter.Tk()\n",
    "oroot.geometry('200x100+600+300')\n",
    "\n",
    "obtn1 = Button(oroot, text='확인1')\n",
    "obtn2 = Button(oroot, text='확인2')\n",
    "obtn3 = Button(oroot, text='확인3')\n",
    "obtn4 = Button(oroot, text='확인4')\n",
    "\n",
    "obtn1.place(x=10, y=60)\n",
    "obtn2.place(x=140, y=60)\n",
    "obtn3.place(x=80, y=10)\n",
    "obtn4.place(x=80, y=60)\n",
    "\n",
    "oroot.mainloop()"
   ]
  },
  {
   "cell_type": "markdown",
   "id": "d2d9046b-ac13-4e69-b8d7-2c999966af67",
   "metadata": {},
   "source": [
    "# 이벤트 바인딩"
   ]
  },
  {
   "cell_type": "code",
   "execution_count": 62,
   "id": "87dab713-f660-43ba-bb20-7c80dae20aef",
   "metadata": {},
   "outputs": [],
   "source": [
    "import tkinter as tk"
   ]
  },
  {
   "cell_type": "code",
   "execution_count": 63,
   "id": "2dc0d459-5c77-42ae-9f17-dd9eef28bd0d",
   "metadata": {},
   "outputs": [],
   "source": [
    "def order():\n",
    "    print('주문하세요')"
   ]
  },
  {
   "cell_type": "code",
   "execution_count": 64,
   "id": "9c314596-108e-4043-84a0-87960863d586",
   "metadata": {},
   "outputs": [
    {
     "name": "stdout",
     "output_type": "stream",
     "text": [
      "주문하세요\n",
      "주문하세요\n",
      "주문하세요\n",
      "주문하세요\n"
     ]
    }
   ],
   "source": [
    "oroot = tk.Tk()\n",
    "obtn = tk.Button(oroot, text='주문', command=order)\n",
    "obtn.pack()\n",
    "oroot.mainloop()"
   ]
  },
  {
   "cell_type": "code",
   "execution_count": 69,
   "id": "eaf70cc9-baf1-4a13-901d-34191687bd9e",
   "metadata": {},
   "outputs": [
    {
     "name": "stdout",
     "output_type": "stream",
     "text": [
      "start tkinter\n",
      "start tkinter\n",
      "start tkinter\n"
     ]
    }
   ],
   "source": [
    "import tkinter as tk\n",
    "\n",
    "def msg():\n",
    "    print('start tkinter')\n",
    "    \n",
    "oroot = tk.Tk()\n",
    "\n",
    "olabel=tk.Label(oroot, text='시작레이블')\n",
    "olabel.pack(side='top')\n",
    "\n",
    "obutton=tk.Button(oroot, text='시작버튼', command=msg)\n",
    "obutton.pack(side='bottom')\n",
    "\n",
    "oroot.mainloop()"
   ]
  },
  {
   "cell_type": "markdown",
   "id": "c00178b0-c95a-4b5b-b52a-308c252b7e59",
   "metadata": {},
   "source": [
    "# 옵션 메뉴"
   ]
  },
  {
   "cell_type": "code",
   "execution_count": 72,
   "id": "792101bb-f43f-481c-a5ee-dc50f95b92f6",
   "metadata": {},
   "outputs": [],
   "source": [
    "import tkinter as tk\n",
    "oroot = tk.Tk()\n",
    "\n",
    "option_list = ['Options 1', 'Options 2', 'Options 3']\n",
    "selected_option = tk.StringVar()\n",
    "selected_option.set(option_list[0])\n",
    "\n",
    "option_menu = tk.OptionMenu(oroot, selected_option, *option_list)\n",
    "option_menu.pack()\n",
    "\n",
    "oroot.mainloop()"
   ]
  },
  {
   "cell_type": "code",
   "execution_count": null,
   "id": "ca481365-6c8a-42c0-a4ca-11201c390441",
   "metadata": {},
   "outputs": [],
   "source": []
  },
  {
   "cell_type": "markdown",
   "id": "7d54f750-a5a7-4176-b12d-234192b6f317",
   "metadata": {},
   "source": [
    "# 피자 또는 음료를 주문하고 계산하는 프로그램"
   ]
  },
  {
   "cell_type": "code",
   "execution_count": 90,
   "id": "83260d0a-e34e-47c5-acf8-aaa600c89684",
   "metadata": {},
   "outputs": [],
   "source": [
    "import tkinter as tk\n",
    "\n",
    "# 피자 메뉴(key)와 가격 (value)\n",
    "pizza_menu = {\n",
    "    '페퍼로니 피자' : 30000,\n",
    "    '치즈 피자' : 35000,\n",
    "    '콤비네이션 피자' : 32000,\n",
    "    '불고기 피자' : 42000,\n",
    "    '해산물 피자' : 57000\n",
    "}\n",
    "\n",
    "# 음료수 메뉴와 가격\n",
    "drink_menu = {\n",
    "    '콜라' : 2000,\n",
    "    '사이다' : 2500,\n",
    "    '생수' : 1000\n",
    "}\n",
    "\n",
    "def order():\n",
    "    total_price = 0\n",
    "    order_list = '주문내역:\\n'\n",
    "\n",
    "    # 피자 주문 내역 생성\n",
    "    order_list = order_list + '피자:\\n'\n",
    "\n",
    "    for pizza, price in pizza_menu.items():\n",
    "        pizza_count = pizza_vars[pizza].get()\n",
    "        pizza_count = int(pizza_count)\n",
    "        if pizza_count:   # pizza_count 0\n",
    "            order_list = order_list + f' - {pizza} ({price}원) X {pizza_count}\\n'\n",
    "            total_price = total_price + (price * pizza_count)\n",
    "\n",
    "    # 음료수 주문 내역 생성\n",
    "    order_list = order_list + '음료수:\\n'\n",
    "\n",
    "    for drink, price in drink_menu.items():\n",
    "        drink_count = drink_vars[drink].get()\n",
    "        drink_count = int(drink_count)\n",
    "        if drink_count:   # drink_count 0\n",
    "            order_list = order_list + f' - {drink} ({price}원) X {drink_count}\\n'\n",
    "            total_price = total_price + (price * pizza_count)\n",
    "    \n",
    "    # 총 주문 가격\n",
    "    order_list = order_list + f'\\n 총 가격 : {total_price}원'\n",
    "\n",
    "    # 주문 내역서 출력 \n",
    "    order_text.set(order_list)\n",
    "\n",
    "    # 주문 내역 파일로 저장\n",
    "    with open('order.txt', 'w') as f:\n",
    "        f.write(order_list)\n",
    "\n",
    "oroot = tk.Tk()\n",
    "oroot.title('조각 피자 주문 프로그램')\n",
    "\n",
    "\n",
    "# 피자 선택 엔리리\n",
    "pizza_vars = {}   # 딕셔너리 형식\n",
    "pizza_frame = tk.LabelFrame(oroot, text='피자')\n",
    "pizza_frame.pack(side='left', padx=10, pady=10, fill='both', expand='yes')\n",
    "\n",
    "for pizza, price in pizza_menu.items():\n",
    "    pizza_vars[pizza] = tk.StringVar(value='0')\n",
    "    olbl = tk.Label(pizza_frame, text=f'{pizza} ({price}원)')\n",
    "    olbl.pack(anchor='w')\n",
    "    oent = tk.Entry(pizza_frame, textvariable=pizza_vars[pizza])\n",
    "    oent.pack(anchor='w')\n",
    "\n",
    "# 음료수 선택 엔리리\n",
    "drink_vars = {}   # 딕셔너리 형식\n",
    "drink_frame = tk.LabelFrame(oroot, text='음료수')\n",
    "drink_frame.pack(side='right', padx=10, pady=10, fill='both', expand='yes')\n",
    "\n",
    "for drink, price in drink_menu.items():\n",
    "    drink_vars[drink] = tk.StringVar(value='0')\n",
    "    olbl = tk.Label(drink_frame, text=f'{drink} ({price}원)')\n",
    "    olbl.pack(anchor='e')\n",
    "    oent = tk.Entry(drink_frame, textvariable=drink_vars[drink])\n",
    "    oent.pack(anchor='e')\n",
    "    \n",
    "# 주문 버튼 \n",
    "obtn = tk.Button(oroot, text='주문', command=order)\n",
    "obtn.pack(pady=10)\n",
    "\n",
    "\n",
    "# 주문 내역 출력 레이블\n",
    "order_text = tk.StringVar()\n",
    "order_text.set('주문내역:\\n')\n",
    "order_label = tk.Label(oroot, textvariable=order_text, justify='left')\n",
    "order_label.pack(padx=10, pady=10, fill='both', expand='yes')\n",
    "\n",
    "oroot.mainloop()"
   ]
  },
  {
   "cell_type": "code",
   "execution_count": null,
   "id": "970f6661-fe02-435c-ae1c-808bee767b77",
   "metadata": {},
   "outputs": [],
   "source": []
  },
  {
   "cell_type": "code",
   "execution_count": null,
   "id": "e4032efc-9e7e-468c-81e2-fe3783a7950e",
   "metadata": {},
   "outputs": [],
   "source": []
  }
 ],
 "metadata": {
  "kernelspec": {
   "display_name": "Python 3 (ipykernel)",
   "language": "python",
   "name": "python3"
  },
  "language_info": {
   "codemirror_mode": {
    "name": "ipython",
    "version": 3
   },
   "file_extension": ".py",
   "mimetype": "text/x-python",
   "name": "python",
   "nbconvert_exporter": "python",
   "pygments_lexer": "ipython3",
   "version": "3.12.8"
  }
 },
 "nbformat": 4,
 "nbformat_minor": 5
}
