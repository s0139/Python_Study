{
 "cells": [
  {
   "cell_type": "code",
   "execution_count": 1,
   "id": "69d130aa-7495-43cb-a7c9-656cd3412e34",
   "metadata": {},
   "outputs": [],
   "source": [
    "from tkinter import *"
   ]
  },
  {
   "cell_type": "code",
   "execution_count": 7,
   "id": "ecf9ae93-d392-4ca0-b60d-4c8fe1408115",
   "metadata": {},
   "outputs": [],
   "source": [
    "def open():\n",
    "    pass\n",
    "\n",
    "def quit():\n",
    "    window.quit()\n",
    "\n",
    "window = Tk() # 윈도우를 생성합니다.\n",
    "\n",
    "menubar = Menu(window)\n",
    "\n",
    "filemenu = Menu(window)\n",
    "\n",
    "filemenu.add_command(label='열기', command = open)\n",
    "filemenu.add_command(label='종료', command = quit)\n",
    "\n",
    "menubar.add_cascade(label='파일', menu=filemenu)\n",
    "\n",
    "window.config(menu=menubar)\n",
    "window.mainloop()"
   ]
  },
  {
   "cell_type": "code",
   "execution_count": null,
   "id": "9df95647-75b5-47d7-9b5b-58e5b2220046",
   "metadata": {},
   "outputs": [],
   "source": []
  }
 ],
 "metadata": {
  "kernelspec": {
   "display_name": "Python 3 (ipykernel)",
   "language": "python",
   "name": "python3"
  },
  "language_info": {
   "codemirror_mode": {
    "name": "ipython",
    "version": 3
   },
   "file_extension": ".py",
   "mimetype": "text/x-python",
   "name": "python",
   "nbconvert_exporter": "python",
   "pygments_lexer": "ipython3",
   "version": "3.12.7"
  }
 },
 "nbformat": 4,
 "nbformat_minor": 5
}
