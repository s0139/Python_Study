{
 "cells": [
  {
   "cell_type": "markdown",
   "id": "43f4b1a9-3330-4b43-9eb6-6907295fafe2",
   "metadata": {},
   "source": [
    "## 모듈"
   ]
  },
  {
   "cell_type": "code",
   "execution_count": 1,
   "id": "869947d3-5f52-48e3-9c16-0ec43172c3dc",
   "metadata": {},
   "outputs": [],
   "source": [
    "import math"
   ]
  },
  {
   "cell_type": "code",
   "execution_count": 2,
   "id": "054b206e-9d83-40db-9d75-f1f1ffc1b6e1",
   "metadata": {},
   "outputs": [
    {
     "name": "stdout",
     "output_type": "stream",
     "text": [
      "5\n"
     ]
    }
   ],
   "source": [
    "result = math.gcd(5, 10)   # 최대 공약수\n",
    "print(result)"
   ]
  },
  {
   "cell_type": "code",
   "execution_count": 3,
   "id": "275a8bd2-5b3a-425b-990c-3cb237268649",
   "metadata": {},
   "outputs": [
    {
     "data": {
      "text/plain": [
       "0.8939966636005579"
      ]
     },
     "execution_count": 3,
     "metadata": {},
     "output_type": "execute_result"
    }
   ],
   "source": [
    "math.sin(90)"
   ]
  },
  {
   "cell_type": "code",
   "execution_count": 4,
   "id": "ae7940d7-c904-4830-ae19-c093c7985011",
   "metadata": {},
   "outputs": [],
   "source": [
    "from math import *    # matah 모듈에 있는 모든 기능 전부 memory로 프로그램 가져옴"
   ]
  },
  {
   "cell_type": "code",
   "execution_count": 5,
   "id": "34766b9f-08cc-4bee-b0c4-463989d8268d",
   "metadata": {},
   "outputs": [
    {
     "data": {
      "text/plain": [
       "5"
      ]
     },
     "execution_count": 5,
     "metadata": {},
     "output_type": "execute_result"
    }
   ],
   "source": [
    "gcd(5, 10)"
   ]
  },
  {
   "cell_type": "markdown",
   "id": "bd8c2237-d9a9-4eac-8f62-505769693d7d",
   "metadata": {},
   "source": [
    "# tkinter 를 조금 기능 사용해 자자"
   ]
  },
  {
   "cell_type": "markdown",
   "id": "328d5c92-10f0-44ab-8661-89722a917eea",
   "metadata": {},
   "source": [
    "tkinter 란 ?\n",
    "1. TK interface\n",
    "2. 파이선을 설치할 때 기본으로 포함되는 그래픽 모듈\n",
    "3. 윈도우를 생성하고 위젯을 이용하여 상용자와 상호작용하는 프로그램을 작성할 수 있도록 함.\n",
    "4. 기본적으로 도형을 빠르게 그릴수 있음"
   ]
  },
  {
   "cell_type": "markdown",
   "id": "c586b2ac-3512-4bd7-ae34-6babea09445e",
   "metadata": {},
   "source": [
    "# tkinter 위젯들 "
   ]
  },
  {
   "cell_type": "markdown",
   "id": "356cbb86-2c07-4271-84ef-ed98acc89bb2",
   "metadata": {},
   "source": [
    "위젯(widget) : tkinter에서 제공하는 조그마한 도구들(버튼, 텍스트 상자 등)"
   ]
  },
  {
   "cell_type": "markdown",
   "id": "41a2dd24-4c33-4df7-a769-40cde3e97c19",
   "metadata": {},
   "source": [
    "| 위젯         | 설명 |\n",
    "|-------------|----------------------------------------------------------------|\n",
    "| **Button** | 간단한 버튼으로 명령을 수행할 때 사용합니다. |\n",
    "| **Canvas** | 화면에 무엇인가를 그릴 때 사용합니다. |\n",
    "| **Checkbutton** | 2가지의 구별되는 값을 가지는 변수를 표현합니다. |\n",
    "| **Entry** | 한 줄의 텍스트를 입력받는 필드입니다. |\n",
    "| **Frame** | 컨테이너 클래스입니다. 프레임은 경계선과 배경을 가지고 있습니다. 다른 위젯들을 그룹핑(묶기)하는 데 사용됩니다. |\n",
    "| **Label** | 텍스트나 이미지를 표시합니다. |\n",
    "| **Listbox** | 선택 사항을 표시합니다. |\n",
    "| **Menu** | 메뉴를 표시합니다. 풀다운 메뉴나 팝업 메뉴가 가능합니다. |\n",
    "| **Menubutton** | 메뉴 버튼입니다. 풀다운 메뉴가 가능합니다. |\n",
    "| **Message** | 텍스트를 표시합니다. Label 위젯과 비슷합니다. 하지만 자동적으로 주어진 크기로 텍스트를 축소할 수 있습니다. |\n",
    "| **Radiobutton** | 여러 값 중에서 하나를 선택할 수 있는 변수를 표시합니다. |\n",
    "| **Scale** | 슬라이더를 끌어서 값을 입력하는 데 사용합니다. |\n",
    "| **Scrollbar** | 캔버스, 엔트리, 리스트 박스, 텍스트 위젯을 위한 스크롤바를 제공합니다. |\n",
    "| **Text** | 형식을 가지는 텍스트를 표시합니다. 여러 가지 스타일과 속성으로 텍스트를 표시할 수 있습니다. |\n",
    "| **Toplevel** | 최상의 윈도우로 표시되는 독립적인 컨테이너 위젯입니다. |\n",
    "| **LabelFrame** | 경계선과 제목을 가지는 프레임 위젯의 변형입니다. |\n",
    "| **PanedWindow** | 자식 위젯들을 크기 조절이 가능한 패널로 관리하는 컨테이너 위젯입니다. |\n",
    "| **Spinbox** | 특정한 범위에서 값을 선택하는 엔트리 위젯의 변형입니다. |"
   ]
  },
  {
   "cell_type": "markdown",
   "id": "5b4a741a-c172-432a-8ee8-4f96304028cb",
   "metadata": {},
   "source": [
    "### tkinter 사용해줘 빈 windows 창을 뛰우기 "
   ]
  },
  {
   "cell_type": "code",
   "execution_count": 6,
   "id": "8feb19e2-1a37-4754-b005-9cf3ef34c6a8",
   "metadata": {},
   "outputs": [],
   "source": [
    "from tkinter import *\n",
    "\n",
    "window = Tk()\n",
    "\n",
    "# 이 부문에 화면을 구성하는 요소들을 작성합니다.\n",
    "\n",
    "window.mainloop()"
   ]
  },
  {
   "cell_type": "code",
   "execution_count": 7,
   "id": "141c45f0-4f18-4949-98d0-11d5ce1c1399",
   "metadata": {},
   "outputs": [],
   "source": [
    "### window에 보튼을 가가\n",
    "\n",
    "from tkinter import *\n",
    "\n",
    "window = Tk()\n",
    "\n",
    "button = Button(window, text='클릭하세요!')\n",
    "button.pack()\n",
    "\n",
    "window.mainloop()"
   ]
  },
  {
   "cell_type": "markdown",
   "id": "3d4e6e9d-7cda-4f55-b2b9-336d78fc6498",
   "metadata": {},
   "source": [
    "# [tkinter] 위도우 배치 관리자\n",
    "- 절대 위치 배치 관리자"
   ]
  },
  {
   "cell_type": "code",
   "execution_count": 10,
   "id": "bf7651d9-ebc0-43ca-a8a8-5479acf8474c",
   "metadata": {},
   "outputs": [],
   "source": [
    "from tkinter import *\n",
    "\n",
    "window = Tk()\n",
    "\n",
    "w = Label(window, text='박스 #1', bg='red', fg='white')\n",
    "w.place(x=0, y=0)\n",
    "\n",
    "w = Label(window, text='박스 #2', bg='green', fg='black')\n",
    "w.place(x=20, y=20)\n",
    "\n",
    "w = Label(window, text='박스 #3', bg='blue', fg='white')\n",
    "w.place(x=40, y=40)\n",
    "\n",
    "\n",
    "window.mainloop()"
   ]
  },
  {
   "cell_type": "markdown",
   "id": "eafeccf6-3f78-4884-a1d3-2bc999b4e1cb",
   "metadata": {},
   "source": [
    "- 격자 배치 관리자(grid geometry manager)"
   ]
  },
  {
   "cell_type": "code",
   "execution_count": 19,
   "id": "6929ce77-7644-4382-95ca-2fb3acb954f7",
   "metadata": {},
   "outputs": [
    {
     "data": {
      "text/plain": [
       "37.77777777777778"
      ]
     },
     "execution_count": 19,
     "metadata": {},
     "output_type": "execute_result"
    }
   ],
   "source": [
    "(100 - 32) * 5/9   # 화씨를 섭씨로 변경"
   ]
  },
  {
   "cell_type": "code",
   "execution_count": 2,
   "id": "57efba1e-a3f0-461b-879a-a415da4e2b2d",
   "metadata": {},
   "outputs": [],
   "source": [
    "from tkinter import *\n",
    "\n",
    "\n",
    "def process():\n",
    "    temperature =  float(e1.get())\n",
    "    totemp = (temperature-32)*5/9\n",
    "    e2.insert(0, str(totemp))\n",
    "\n",
    "def process2():\n",
    "    temperature =  float(e2.get())\n",
    "    totemp = (temperature/5*9) + 32\n",
    "    e1.insert(0, str(totemp))\n",
    "\n",
    "\n",
    "window = Tk()\n",
    "\n",
    "l1 = Label(window, text='화씨', font='helvetica 12 italic')\n",
    "l2 = Label(window, text='섭씨', font='helvetica 12 italic')\n",
    "l1.grid(row=0, column=0)\n",
    "l2.grid(row=1, column=0)\n",
    "\n",
    "e1 = Entry(window, bg='green', fg='yellow')\n",
    "e2 = Entry(window, bg='green', fg='yellow')\n",
    "e1.grid(row=0, column=1)\n",
    "e2.grid(row=1, column=1)\n",
    "\n",
    "b1 = Button(window, text='화씨->섭씨', command=process)\n",
    "b2 = Button(window, text='섭씨->화씨', command=process2)\n",
    "b1.grid(row=2, column=0)\n",
    "b2.grid(row=2, column=1)\n",
    "\n",
    "window.mainloop()"
   ]
  },
  {
   "cell_type": "code",
   "execution_count": null,
   "id": "e1f65a7a-16a2-4b39-90f2-66496f2376e0",
   "metadata": {},
   "outputs": [],
   "source": []
  },
  {
   "cell_type": "code",
   "execution_count": null,
   "id": "4bfb5db0-5f1d-47dc-b5a4-6649b59046d6",
   "metadata": {},
   "outputs": [],
   "source": []
  },
  {
   "cell_type": "code",
   "execution_count": null,
   "id": "4c37100f-a378-4e10-aa59-f924dae20a91",
   "metadata": {},
   "outputs": [],
   "source": []
  }
 ],
 "metadata": {
  "kernelspec": {
   "display_name": "Python 3 (ipykernel)",
   "language": "python",
   "name": "python3"
  },
  "language_info": {
   "codemirror_mode": {
    "name": "ipython",
    "version": 3
   },
   "file_extension": ".py",
   "mimetype": "text/x-python",
   "name": "python",
   "nbconvert_exporter": "python",
   "pygments_lexer": "ipython3",
   "version": "3.12.7"
  }
 },
 "nbformat": 4,
 "nbformat_minor": 5
}
